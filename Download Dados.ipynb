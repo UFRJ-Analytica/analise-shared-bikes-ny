{
 "cells": [
  {
   "cell_type": "markdown",
   "id": "8670e3ad",
   "metadata": {},
   "source": [
    "# Introdução\n",
    "\n",
    "Nesse notebook iremos fazer os downloads de todos os dados necessários para a nossa análise."
   ]
  },
  {
   "cell_type": "markdown",
   "id": "c5f34db6",
   "metadata": {},
   "source": [
    "# Dados Oficiais do Citi Bike NY"
   ]
  },
  {
   "cell_type": "code",
   "execution_count": 1,
   "id": "54d6b8e2",
   "metadata": {},
   "outputs": [],
   "source": [
    "import requests\n",
    "import zipfile\n",
    "from io import BytesIO\n",
    "from pathlib import Path\n",
    "import os\n",
    "import pandas as pd\n",
    "from os import listdir\n",
    "from os.path import isfile, join"
   ]
  },
  {
   "cell_type": "code",
   "execution_count": 2,
   "id": "551e01e5",
   "metadata": {},
   "outputs": [],
   "source": [
    "project_file = os.getcwd()"
   ]
  },
  {
   "cell_type": "markdown",
   "id": "48588e77",
   "metadata": {},
   "source": [
    "https://s3.amazonaws.com/tripdata/201601-citibike-tripdata.zip"
   ]
  },
  {
   "cell_type": "code",
   "execution_count": null,
   "id": "14d26e0b",
   "metadata": {},
   "outputs": [],
   "source": [
    "# Fazendo o download dos arquivos raw\n",
    "year = '2022'\n",
    "for month in range(1, 13):\n",
    "    url = f\"https://s3.amazonaws.com/tripdata/{year}{month:02d}-citibike-tripdata.csv.zip\"\n",
    "    print(\"Fazendo download de\", url)\n",
    "    req = requests.get(url)\n",
    "    try:\n",
    "        zf= zipfile.ZipFile(BytesIO(req.content))\n",
    "        zf.extractall(f\"{project_file}/Dados/CitiBikeRaw/\")\n",
    "    except Exception as e:\n",
    "        print(f\"Mês {month} não encontrado. Erro: {e}\")"
   ]
  },
  {
   "cell_type": "code",
   "execution_count": 150,
   "id": "c2331d0f",
   "metadata": {},
   "outputs": [],
   "source": [
    "# Coletando o caminho de cada arquivo\n",
    "citibikeraw_path = f\"{project_file}\\Dados\\CitiBikeRaw\"\n",
    "file_paths = [f for f in listdir(citibikeraw_path) if isfile(join(citibikeraw_path, f))]"
   ]
  },
  {
   "cell_type": "code",
   "execution_count": null,
   "id": "c1b2cf23",
   "metadata": {},
   "outputs": [],
   "source": [
    "# Salvando os dados em uma lista de dataframe\n",
    "dfs = []\n",
    "for datapath in file_paths:\n",
    "    dfs.append(pd.read_csv(f\"{citibikeraw_path}/{datapath}\"))"
   ]
  },
  {
   "cell_type": "code",
   "execution_count": 152,
   "id": "eb59cd67",
   "metadata": {},
   "outputs": [],
   "source": [
    "# Compilandos toos meses em um unico arquivo\n",
    "df_complete = pd.concat(dfs, axis=0, ignore_index=True)"
   ]
  },
  {
   "cell_type": "code",
   "execution_count": null,
   "id": "4e8218d6",
   "metadata": {},
   "outputs": [],
   "source": [
    "# Salvando o dataframe do respectivo ano\n",
    "df_complete.to_parquet(f\"{project_file}/Dados/citibike{year}.parquet\")"
   ]
  },
  {
   "cell_type": "code",
   "execution_count": 135,
   "id": "ae7898a3",
   "metadata": {},
   "outputs": [],
   "source": [
    "# Coletando amostra do original\n",
    "df_complete.sample(1000000, random_state=42).to_parquet(f\"{project_file}/Dados/Amostras/citibike{year}_sample.parquet\")"
   ]
  },
  {
   "cell_type": "code",
   "execution_count": 159,
   "id": "a83c6400",
   "metadata": {},
   "outputs": [],
   "source": [
    "for datapath in file_paths:\n",
    "    os.remove(f\"{citibikeraw_path}/{datapath}\")"
   ]
  },
  {
   "cell_type": "code",
   "execution_count": 137,
   "id": "1be90def",
   "metadata": {},
   "outputs": [],
   "source": [
    "os.remove(f\"{project_file}/Dados/citibike{year}.parquet\")"
   ]
  },
  {
   "cell_type": "markdown",
   "id": "2f67fc67",
   "metadata": {},
   "source": [
    "## Compilando dos os Anos"
   ]
  },
  {
   "cell_type": "code",
   "execution_count": 138,
   "id": "6177b630",
   "metadata": {},
   "outputs": [],
   "source": [
    "# Salvando os dados em uma lista para serem compilados depois\n",
    "amostras_path = f\"{project_file}\\Dados\\Amostras\"\n",
    "\n",
    "file_paths = [f for f in listdir(amostras_path) if isfile(join(amostras_path, f))]\n",
    "\n",
    "dfs = []\n",
    "for datapath in file_paths:\n",
    "    dfs.append(pd.read_parquet(f\"{amostras_path}/{datapath}\"))"
   ]
  },
  {
   "cell_type": "code",
   "execution_count": 139,
   "id": "beeb9f46",
   "metadata": {},
   "outputs": [],
   "source": [
    "# Compilando\n",
    "df_complete = pd.concat(dfs, axis=0, ignore_index=True)\n",
    "# Salvando\n",
    "df_complete.to_parquet(f\"{project_file}/Dados/citibike_limpo.parquet\")"
   ]
  },
  {
   "cell_type": "markdown",
   "id": "556a238b",
   "metadata": {},
   "source": [
    "## Sujando o dataset"
   ]
  },
  {
   "cell_type": "markdown",
   "id": "09ea17bd",
   "metadata": {},
   "source": [
    "Negativando 30% dos anos de nascimento"
   ]
  },
  {
   "cell_type": "code",
   "execution_count": 140,
   "id": "e2192da5",
   "metadata": {},
   "outputs": [],
   "source": [
    "linhas_com_nan_birth_year = df_complete[df_complete['Birth Year'].isna()]\n",
    "\n",
    "# Obter amostras aleatórias da coluna 'Stop'\n",
    "amostras_aleatorias = linhas_com_nan_birth_year.sample(frac=0.2, replace=True) \n",
    "\n",
    "# Multiplicar por -1 as amostras selecionadas da coluna 'Stop'\n",
    "df_complete.loc[amostras_aleatorias.index, 'birth year'] = amostras_aleatorias['birth year'] * -1"
   ]
  },
  {
   "cell_type": "markdown",
   "id": "c78c9b19",
   "metadata": {},
   "source": [
    "Duplicando dados"
   ]
  },
  {
   "cell_type": "code",
   "execution_count": 141,
   "id": "1e31eb8b",
   "metadata": {},
   "outputs": [],
   "source": [
    "linhas_dup = df_complete.sample(frac=0.25, replace=True)  # Porcentagem de linhas duplicadas desejadas (20% neste exemplo)\n",
    "df_complete = pd.concat([df_complete, linhas_dup])"
   ]
  },
  {
   "cell_type": "code",
   "execution_count": 142,
   "id": "9c5d39be",
   "metadata": {},
   "outputs": [
    {
     "data": {
      "text/plain": [
       "1000000"
      ]
     },
     "execution_count": 142,
     "metadata": {},
     "output_type": "execute_result"
    }
   ],
   "source": [
    "df_complete.duplicated().sum()"
   ]
  },
  {
   "cell_type": "code",
   "execution_count": 143,
   "id": "93314641",
   "metadata": {},
   "outputs": [],
   "source": [
    "df_complete.to_parquet(f\"{project_file}/Dados/citibike_sujo.parquet\")"
   ]
  }
 ],
 "metadata": {
  "kernelspec": {
   "display_name": "Python 3",
   "language": "python",
   "name": "python3"
  },
  "language_info": {
   "codemirror_mode": {
    "name": "ipython",
    "version": 3
   },
   "file_extension": ".py",
   "mimetype": "text/x-python",
   "name": "python",
   "nbconvert_exporter": "python",
   "pygments_lexer": "ipython3",
   "version": "3.9.4"
  }
 },
 "nbformat": 4,
 "nbformat_minor": 5
}
