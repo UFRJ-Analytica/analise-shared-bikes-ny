{
 "cells": [
  {
   "attachments": {},
   "cell_type": "markdown",
   "metadata": {},
   "source": [
    "## UFRJ Analytica - Equipe X"
   ]
  },
  {
   "attachments": {},
   "cell_type": "markdown",
   "metadata": {},
   "source": [
    "## Introdução"
   ]
  },
  {
   "attachments": {},
   "cell_type": "markdown",
   "metadata": {},
   "source": [
    "O propósito deste projeto consiste em analisar os dados provenientes do sistema de compartilhamento de bicicletas da cidade de Nova Iorque, identificar as suas particularidades e, por fim, realizar uma previsão."
   ]
  },
  {
   "attachments": {},
   "cell_type": "markdown",
   "metadata": {},
   "source": [
    "**Importante**: Devido à restrição de espaço no Github, os dados estão hospedados no Drive. Portanto, é necessário fazer o download dos dados e salvá-los localmente na pasta \"Dados\", localizada na raiz do sistema. O código abaixo foi desenvolvido para realizar o download e o salvamento dos dados automaticamente.<br>\n",
    "Fonte original dos dados: https://s3.amazonaws.com/tripdata/index.html"
   ]
  },
  {
   "attachments": {},
   "cell_type": "markdown",
   "metadata": {},
   "source": [
    "### Descrição das Features"
   ]
  },
  {
   "attachments": {},
   "cell_type": "markdown",
   "metadata": {},
   "source": [
    "O nosso conjunto de dados é descrito da seguinte forma:\n",
    "\n",
    "|Atributo                                           |   Descrição   |\n",
    "|---------------------------------------------------|:-------------:|\n",
    "| tripduration                                      |   Duração da viagem em segundos | \n",
    "| starttime                                         |   Início da viagem | \n",
    "| stoptime                                          |   Fim da Viagem   | \n",
    "| start station id                                  |   Identificado da estação origem   | \n",
    "| start station name                                |   Nome da estação onde a viagem iniciou|\n",
    "| start station latitude / start station longitude  |   Localização onde a viagem iniciou|\n",
    "| end station id                                    |   Identificado da estação destino   | \n",
    "| end station name                                  |   Nome da estação onde a viagem terminou|\n",
    "| end station latitude / end station longitude       |   Localização onde a viagem terminou   |\n",
    "| bikeid                                           |   Identificado da bicicleta  |\n",
    "| usertype                                          |   Customer = passe de 24 horas ou 3 dias; Subscriber = Membro Anual |\n",
    "| birth year                                        |   Ano de nascimento|\n",
    "| gender                                            |   0 = desconhecido; 1 = masculino; 2 = feminino |"
   ]
  },
  {
   "attachments": {},
   "cell_type": "markdown",
   "metadata": {},
   "source": [
    "### To do"
   ]
  },
  {
   "attachments": {},
   "cell_type": "markdown",
   "metadata": {},
   "source": [
    "**Análise de Dados:**\n",
    "* [ ] Análise Prelimiar.\n",
    "* [ ] Limpeza dos dados.\n",
    "* [ ] Escreva algo aqui.\n",
    "\n",
    "**Modelagem:**\n",
    "* [ ] Escreva algo aqui.\n",
    "\n",
    "**Conclução:**\n",
    "* [ ] Escreva algo aqui."
   ]
  },
  {
   "attachments": {},
   "cell_type": "markdown",
   "metadata": {},
   "source": [
    "## Importações"
   ]
  },
  {
   "cell_type": "code",
   "execution_count": 1,
   "metadata": {},
   "outputs": [],
   "source": [
    "import pandas as pd \n",
    "import requests\n",
    "import os"
   ]
  },
  {
   "attachments": {},
   "cell_type": "markdown",
   "metadata": {},
   "source": [
    "# Análise de Dados"
   ]
  },
  {
   "attachments": {},
   "cell_type": "markdown",
   "metadata": {},
   "source": [
    "### Download dos Dados"
   ]
  },
  {
   "attachments": {},
   "cell_type": "markdown",
   "metadata": {},
   "source": [
    "O conteúdo do arquivo será lido e alocado na variável denominada \"``data_trips``\"."
   ]
  },
  {
   "cell_type": "code",
   "execution_count": 5,
   "metadata": {},
   "outputs": [],
   "source": [
    "# Link do arquivo do Google Drive\n",
    "link = 'https://drive.google.com/file/d/1a8gzQg37aaDHBO6OBVMieOZmNU7jTOL1/view?usp=share_link'\n",
    "\n",
    "# Obtendo o ID do arquivo\n",
    "file_id = link.split('/')[-2]\n",
    "\n",
    "# Verificando se o arquivo já existe\n",
    "file_path = '../../Dados/citibike2018_2019_sample.parquet'\n",
    "if not os.path.isfile(file_path):\n",
    "    # Se não existe, faça o download do arquivo\n",
    "    url = f'https://drive.google.com/uc?id={file_id}&export=download'\n",
    "    response = requests.get(url)\n",
    "    content = response.content\n",
    "\n",
    "    # Salve o arquivo localmente\n",
    "    with open(file_path, 'wb') as f:\n",
    "        f.write(content)\n",
    "    \n",
    "# Lendo o arquivo\n",
    "data_trips = pd.read_parquet(file_path)"
   ]
  },
  {
   "attachments": {},
   "cell_type": "markdown",
   "metadata": {},
   "source": [
    "### Análise Prelimiar"
   ]
  },
  {
   "attachments": {},
   "cell_type": "markdown",
   "metadata": {},
   "source": [
    "Continue..."
   ]
  }
 ],
 "metadata": {
  "kernelspec": {
   "display_name": "Python 3",
   "language": "python",
   "name": "python3"
  },
  "language_info": {
   "codemirror_mode": {
    "name": "ipython",
    "version": 3
   },
   "file_extension": ".py",
   "mimetype": "text/x-python",
   "name": "python",
   "nbconvert_exporter": "python",
   "pygments_lexer": "ipython3",
   "version": "3.9.4"
  },
  "orig_nbformat": 4
 },
 "nbformat": 4,
 "nbformat_minor": 2
}
